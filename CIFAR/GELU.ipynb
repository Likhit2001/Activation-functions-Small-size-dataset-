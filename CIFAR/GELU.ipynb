{
 "cells": [
  {
   "cell_type": "code",
   "execution_count": 21,
   "id": "82494a0c-f7d4-4359-b5f9-3ed922e28f69",
   "metadata": {},
   "outputs": [
    {
     "name": "stdout",
     "output_type": "stream",
     "text": [
      "tensorflow version : 2.13.0\n",
      "GPU is  Available\n"
     ]
    }
   ],
   "source": [
    "import sys\n",
    "import tensorflow.keras\n",
    "import tensorflow as tf\n",
    "\n",
    "print(f\"tensorflow version : {tf.__version__}\")\n",
    "# print(f\"keras version : {tensorflow.keras.__version__}\")\n",
    "\n",
    "gpu = len(tf.config.list_physical_devices('GPU'))>0\n",
    "print(\"GPU is \" , \"Available\" if gpu else \"NOT available\")"
   ]
  },
  {
   "cell_type": "code",
   "execution_count": 22,
   "id": "cf95bbb1-3ae6-43ec-a7f0-6605be48ed09",
   "metadata": {},
   "outputs": [],
   "source": [
    "import numpy as np\n",
    "import matplotlib.pyplot as plt\n",
    "import os\n",
    "import math\n",
    "from sklearn.metrics import precision_score\n",
    "from tensorflow.keras import regularizers\n",
    "import shutil\n",
    "import glob\n",
    "from tensorflow.keras.layers import Input, Conv2D, MaxPooling2D, Concatenate, AveragePooling2D, Flatten, Dense\n",
    "from keras.layers import Conv2D , GlobalAveragePooling2D , MaxPooling2D,Dropout , Flatten , Dense, BatchNormalization, GlobalAvgPool2D\n",
    "from tensorflow.keras.preprocessing.image import ImageDataGenerator\n",
    "import keras\n",
    "import tensorflow as tf\n",
    "from tensorflow.keras.layers import GaussianNoise\n",
    "from tensorflow import keras\n",
    "from tensorflow.keras import layers\n",
    "from tensorflow.keras.models import Sequential\n",
    "from tensorflow.python.framework.func_graph import flatten\n",
    "from keras.callbacks import ModelCheckpoint , EarlyStopping , ReduceLROnPlateau\n",
    "from tensorflow.keras.models import Model , load_model\n",
    "from tensorflow.keras.preprocessing.image import load_img\n",
    "from tensorflow.keras.preprocessing.image import img_to_array\n",
    "from tensorflow.keras.applications import  InceptionV3\n",
    "from tensorflow.keras.applications.inception_v3 import  preprocess_input\n",
    "from sklearn.model_selection import KFold\n",
    "from keras.callbacks import Callback"
   ]
  },
  {
   "cell_type": "code",
   "execution_count": 23,
   "id": "38b75f63-fbf8-4a65-862f-a927dd2ee984",
   "metadata": {},
   "outputs": [
    {
     "name": "stdout",
     "output_type": "stream",
     "text": [
      "dict_items([('cat', 5000), ('dog', 5000), ('truck', 5000), ('bird', 5000), ('airplane', 5000), ('ship', 5000), ('frog', 5000), ('horse', 5000), ('deer', 5000), ('automobile', 5000)])\n"
     ]
    }
   ],
   "source": [
    "import os\n",
    "\n",
    "root_dir = \"data\"\n",
    "number_of_images = {}\n",
    "\n",
    "for dir in os.listdir(root_dir):\n",
    "    # Ignore .DS_Store files\n",
    "    if dir == '.DS_Store':\n",
    "        continue\n",
    "\n",
    "    # Check if the item is a directory before listing its contents\n",
    "    if os.path.isdir(os.path.join(root_dir, dir)):\n",
    "        number_of_images[dir] = len(os.listdir(os.path.join(root_dir, dir)))\n",
    "\n",
    "print(number_of_images.items())\n"
   ]
  },
  {
   "cell_type": "code",
   "execution_count": 24,
   "id": "917d50d1-0d00-470f-892b-0a2e323f8feb",
   "metadata": {},
   "outputs": [],
   "source": [
    "def foldercreation (path , split) :\n",
    "    if not os.path.exists('./'+path):\n",
    "      os.mkdir('./'+path)\n",
    "\n",
    "      for dir in os.listdir(root_dir):\n",
    "        if dir == '.DS_Store':\n",
    "           continue\n",
    "            \n",
    "        os.makedirs('./'+path+\"/\"+dir)\n",
    "\n",
    "        for img in np.random.choice(a=os.listdir(os.path.join(root_dir,dir)) , size = (math.floor(split * number_of_images[dir])-5) , replace=False):\n",
    "          Original = os.path.join(root_dir,dir,img)\n",
    "          Destination =os.path.join('./'+path , dir)\n",
    "          shutil.copy(Original,Destination)\n",
    "          # os.remove(Original)\n",
    "\n",
    "    else:\n",
    "      print(\"The folder exsist\")"
   ]
  },
  {
   "cell_type": "code",
   "execution_count": 25,
   "id": "d030332f-42c5-45fe-a9df-0b2a9b5017d9",
   "metadata": {},
   "outputs": [
    {
     "name": "stdout",
     "output_type": "stream",
     "text": [
      "The folder exsist\n",
      "The folder exsist\n",
      "The folder exsist\n"
     ]
    }
   ],
   "source": [
    "foldercreation(\"train_data\",0.7)\n",
    "foldercreation(\"validation_data\",0.15)\n",
    "foldercreation(\"test_data\",0.15)"
   ]
  },
  {
   "cell_type": "code",
   "execution_count": 26,
   "id": "1199e693-d2a0-4659-8991-706065051243",
   "metadata": {},
   "outputs": [
    {
     "name": "stdout",
     "output_type": "stream",
     "text": [
      "Found 34950 images belonging to 10 classes.\n"
     ]
    }
   ],
   "source": [
    "image_data = ImageDataGenerator (\n",
    "                                     \n",
    "                                      shear_range=0.2,\n",
    "                                      zoom_range=0.2,\n",
    "                                      horizontal_flip=True,\n",
    "                                      preprocessing_function= preprocess_input,\n",
    "                                )\n",
    "\n",
    "image=image_data.flow_from_directory(directory=\"train_data\" ,\n",
    "                                       target_size=(28,28),\n",
    "                                       batch_size=32,\n",
    "                                       shuffle=True,\n",
    "                                       class_mode=\"categorical\")"
   ]
  },
  {
   "cell_type": "code",
   "execution_count": 27,
   "id": "964c9fed-0872-4410-9a39-496bbb9903b1",
   "metadata": {},
   "outputs": [],
   "source": [
    "def preprocessing2 (path):\n",
    "  image_data = ImageDataGenerator(preprocessing_function= preprocess_input)\n",
    "  image = image_data.flow_from_directory(directory = path,\n",
    "                                         target_size=(28,28),\n",
    "                                         batch_size = 32,\n",
    "                                         shuffle=True,\n",
    "                                         class_mode = \"categorical\")\n",
    "  return image"
   ]
  },
  {
   "cell_type": "code",
   "execution_count": 28,
   "id": "cd18e7b0-ba7d-4a5f-980a-7dc3073d0c29",
   "metadata": {},
   "outputs": [
    {
     "name": "stdout",
     "output_type": "stream",
     "text": [
      "Found 7450 images belonging to 10 classes.\n"
     ]
    }
   ],
   "source": [
    "path_test =\"test_data\"\n",
    "test_data = preprocessing2(path_test)\n",
    "X_test , Y_test = test_data.next()"
   ]
  },
  {
   "cell_type": "code",
   "execution_count": 29,
   "id": "304013d9-6d94-42dc-8e5f-6e07aa03aa11",
   "metadata": {},
   "outputs": [
    {
     "name": "stdout",
     "output_type": "stream",
     "text": [
      "Found 7450 images belonging to 10 classes.\n"
     ]
    }
   ],
   "source": [
    "path_validate=\"validation_data\"\n",
    "validate_data = preprocessing2(path_validate)\n",
    "validate_data_1 , validate_labels = validate_data.next()"
   ]
  },
  {
   "cell_type": "code",
   "execution_count": 30,
   "id": "2b9579cd-cd00-4c61-bf70-6e9c4fc0a1e9",
   "metadata": {},
   "outputs": [],
   "source": [
    "import tensorflow_addons as tfa\n",
    "\n",
    "# Usage example with TensorFlow Addons\n",
    "gelu = tfa.activations.gelu\n",
    "\n",
    "def model_layer_1 (inputs,filters):\n",
    "\n",
    "\n",
    "  convo_2x2 = Conv2D(filters=filters[0], kernel_size=(2,2), padding='same', activation='gelu')(inputs)\n",
    "  convo_3x3 = Conv2D(filters=filters[1], kernel_size=(3,3), padding='same', activation='gelu')(inputs)\n",
    "  pool_conv = Conv2D(filters=filters[2], kernel_size=(3,3), padding='same', activation='gelu')(inputs)\n",
    "\n",
    "\n",
    "  outputs = Concatenate(axis=-1)([convo_2x2, convo_3x3, pool_conv])\n",
    "\n",
    "  return outputs\n",
    "\n",
    "\n",
    "def model_layer_2 (inputs,filters):\n",
    "\n",
    "\n",
    "\n",
    "  convo_3x3 = Conv2D(filters=filters[0], kernel_size=(2,2), padding='same', activation='gelu')(inputs)\n",
    "  pool_3x3 =MaxPooling2D(pool_size=(2,2), strides=(1,1), padding='same')(convo_3x3)\n",
    "\n",
    "  convo_5x5 = Conv2D(filters=filters[1], kernel_size=(3,3), padding='same', activation='gelu')(inputs)\n",
    "  pool_5x5 = MaxPooling2D(pool_size=(3,3), strides=(1,1), padding='same')(convo_5x5)\n",
    "\n",
    "  outputs = Concatenate(axis=-1)([pool_3x3, pool_5x5])\n",
    "\n",
    "  return outputs\n",
    "\n",
    "\n",
    "def model_layer_3 (inputs,filters):\n",
    "    \n",
    "  convo_1x1 = Conv2D(filters=filters[0], kernel_size=(3,3), padding='same', activation='gelu')(inputs)\n",
    "  pool_1x1 = MaxPooling2D(pool_size=(3,3), strides=(1,1), padding='same')(inputs)\n",
    "  outputs = Concatenate(axis=-1)([pool_1x1, convo_1x1])\n",
    "\n",
    "  return outputs\n",
    "\n",
    "\n",
    "# def model_layer_5 (inputs,filters):\n",
    "    \n",
    "#   convo_1x1 = Conv2D(filters=filters[0], kernel_size=(5,5), padding='same', activation='relu')(inputs)\n",
    "#   pool_1x1 = MaxPooling2D(pool_size=(3,3), strides=(1,1), padding='same')(inputs)\n",
    "#   outputs = Concatenate(axis=-1)([pool_1x1, convo_1x1])\n",
    "\n",
    "#   return outputs\n",
    "\n",
    "# def model_layer_6 (inputs):\n",
    "    \n",
    "#   pool_3x3 = MaxPooling2D(pool_size=(2,2), strides=(1,1), padding='same')(inputs)\n",
    "#   pool_1x1 = MaxPooling2D(pool_size=(3,3), strides=(1,1), padding='same')(inputs)\n",
    "#   outputs = Concatenate(axis=-1)([pool_1x1, pool_3x3])\n",
    "\n",
    "#   return outputs\n",
    "\n",
    "    \n",
    "\n",
    "\n"
   ]
  },
  {
   "cell_type": "code",
   "execution_count": 31,
   "id": "b7fb6b60-b00f-4849-a8f0-cd2f02b411fa",
   "metadata": {},
   "outputs": [],
   "source": [
    "from keras.layers import Input\n",
    "from keras.models import Model\n",
    "from keras.layers import Input, Flatten, Dense, Dropout\n",
    "\n",
    "# define input tensor\n",
    "\n",
    "input_tensor = Input(shape=(28, 28, 3))\n",
    "\n",
    "\n",
    "original_model = model_layer_3(input_tensor,[128])\n",
    "original_model = MaxPooling2D(pool_size=(2,2) ,padding='same')(original_model)\n",
    "\n",
    "\n",
    "original_model = model_layer_1(original_model,[32,64,128])\n",
    "original_model = MaxPooling2D(pool_size=(2,2),padding='same')(original_model)\n",
    "original_model = model_layer_2(original_model,[128,64])\n",
    "\n",
    "original_model = MaxPooling2D(pool_size=(2,2) ,padding='same')(original_model)\n",
    "original_model = model_layer_3(original_model,[128])\n",
    "\n",
    "\n",
    "\n",
    "\n"
   ]
  },
  {
   "cell_type": "code",
   "execution_count": 32,
   "id": "6cc7fa87-ee6b-492e-8b39-c938722e9a30",
   "metadata": {},
   "outputs": [],
   "source": [
    "\n",
    "original_model = Flatten()(original_model)\n",
    "original_model = Dense(512, activation='gelu' ,kernel_regularizer=regularizers.l2(0.001))(original_model)\n",
    "original_model = Dense(256, activation='gelu' ,kernel_regularizer=regularizers.l2(0.001))(original_model)\n",
    "original_model = Dropout(0.5)(original_model)\n",
    "\n",
    "output_tensor = Dense(10, activation='softmax' ,kernel_regularizer=regularizers.l2(0.001))(original_model)\n",
    "\n",
    "original_model = Model(inputs=input_tensor, outputs=output_tensor)"
   ]
  },
  {
   "cell_type": "code",
   "execution_count": 33,
   "id": "040bd7f7-895c-4e21-9194-c500ec6c59a2",
   "metadata": {},
   "outputs": [
    {
     "name": "stdout",
     "output_type": "stream",
     "text": [
      "Model: \"model_1\"\n",
      "__________________________________________________________________________________________________\n",
      " Layer (type)                Output Shape                 Param #   Connected to                  \n",
      "==================================================================================================\n",
      " input_2 (InputLayer)        [(None, 28, 28, 3)]          0         []                            \n",
      "                                                                                                  \n",
      " max_pooling2d_7 (MaxPoolin  (None, 28, 28, 3)            0         ['input_2[0][0]']             \n",
      " g2D)                                                                                             \n",
      "                                                                                                  \n",
      " conv2d_7 (Conv2D)           (None, 28, 28, 128)          3584      ['input_2[0][0]']             \n",
      "                                                                                                  \n",
      " concatenate_4 (Concatenate  (None, 28, 28, 131)          0         ['max_pooling2d_7[0][0]',     \n",
      " )                                                                   'conv2d_7[0][0]']            \n",
      "                                                                                                  \n",
      " max_pooling2d_8 (MaxPoolin  (None, 14, 14, 131)          0         ['concatenate_4[0][0]']       \n",
      " g2D)                                                                                             \n",
      "                                                                                                  \n",
      " conv2d_8 (Conv2D)           (None, 14, 14, 32)           16800     ['max_pooling2d_8[0][0]']     \n",
      "                                                                                                  \n",
      " conv2d_9 (Conv2D)           (None, 14, 14, 64)           75520     ['max_pooling2d_8[0][0]']     \n",
      "                                                                                                  \n",
      " conv2d_10 (Conv2D)          (None, 14, 14, 128)          151040    ['max_pooling2d_8[0][0]']     \n",
      "                                                                                                  \n",
      " concatenate_5 (Concatenate  (None, 14, 14, 224)          0         ['conv2d_8[0][0]',            \n",
      " )                                                                   'conv2d_9[0][0]',            \n",
      "                                                                     'conv2d_10[0][0]']           \n",
      "                                                                                                  \n",
      " max_pooling2d_9 (MaxPoolin  (None, 7, 7, 224)            0         ['concatenate_5[0][0]']       \n",
      " g2D)                                                                                             \n",
      "                                                                                                  \n",
      " conv2d_11 (Conv2D)          (None, 7, 7, 128)            114816    ['max_pooling2d_9[0][0]']     \n",
      "                                                                                                  \n",
      " conv2d_12 (Conv2D)          (None, 7, 7, 64)             129088    ['max_pooling2d_9[0][0]']     \n",
      "                                                                                                  \n",
      " max_pooling2d_10 (MaxPooli  (None, 7, 7, 128)            0         ['conv2d_11[0][0]']           \n",
      " ng2D)                                                                                            \n",
      "                                                                                                  \n",
      " max_pooling2d_11 (MaxPooli  (None, 7, 7, 64)             0         ['conv2d_12[0][0]']           \n",
      " ng2D)                                                                                            \n",
      "                                                                                                  \n",
      " concatenate_6 (Concatenate  (None, 7, 7, 192)            0         ['max_pooling2d_10[0][0]',    \n",
      " )                                                                   'max_pooling2d_11[0][0]']    \n",
      "                                                                                                  \n",
      " max_pooling2d_12 (MaxPooli  (None, 4, 4, 192)            0         ['concatenate_6[0][0]']       \n",
      " ng2D)                                                                                            \n",
      "                                                                                                  \n",
      " max_pooling2d_13 (MaxPooli  (None, 4, 4, 192)            0         ['max_pooling2d_12[0][0]']    \n",
      " ng2D)                                                                                            \n",
      "                                                                                                  \n",
      " conv2d_13 (Conv2D)          (None, 4, 4, 128)            221312    ['max_pooling2d_12[0][0]']    \n",
      "                                                                                                  \n",
      " concatenate_7 (Concatenate  (None, 4, 4, 320)            0         ['max_pooling2d_13[0][0]',    \n",
      " )                                                                   'conv2d_13[0][0]']           \n",
      "                                                                                                  \n",
      " flatten_1 (Flatten)         (None, 5120)                 0         ['concatenate_7[0][0]']       \n",
      "                                                                                                  \n",
      " dense_3 (Dense)             (None, 512)                  2621952   ['flatten_1[0][0]']           \n",
      "                                                                                                  \n",
      " dense_4 (Dense)             (None, 256)                  131328    ['dense_3[0][0]']             \n",
      "                                                                                                  \n",
      " dropout_1 (Dropout)         (None, 256)                  0         ['dense_4[0][0]']             \n",
      "                                                                                                  \n",
      " dense_5 (Dense)             (None, 10)                   2570      ['dropout_1[0][0]']           \n",
      "                                                                                                  \n",
      "==================================================================================================\n",
      "Total params: 3468010 (13.23 MB)\n",
      "Trainable params: 3468010 (13.23 MB)\n",
      "Non-trainable params: 0 (0.00 Byte)\n",
      "__________________________________________________________________________________________________\n"
     ]
    }
   ],
   "source": [
    "original_model.summary()"
   ]
  },
  {
   "cell_type": "code",
   "execution_count": 34,
   "id": "909495f2-933b-4cfa-826b-bbb1890983f6",
   "metadata": {},
   "outputs": [
    {
     "name": "stderr",
     "output_type": "stream",
     "text": [
      "WARNING:absl:At this time, the v2.11+ optimizer `tf.keras.optimizers.Adam` runs slowly on M1/M2 Macs, please use the legacy Keras optimizer instead, located at `tf.keras.optimizers.legacy.Adam`.\n",
      "WARNING:absl:There is a known slowdown when using v2.11+ Keras optimizers on M1/M2 Macs. Falling back to the legacy Keras optimizer, i.e., `tf.keras.optimizers.legacy.Adam`.\n"
     ]
    }
   ],
   "source": [
    "opt = keras.optimizers.Adam()\n",
    "original_model.compile(optimizer= opt ,\n",
    "              loss= keras.losses.categorical_crossentropy,\n",
    "              metrics=['accuracy' , 'AUC'])"
   ]
  },
  {
   "cell_type": "code",
   "execution_count": 35,
   "id": "6ab155de-6383-4f99-adce-e2d575457f0e",
   "metadata": {},
   "outputs": [],
   "source": [
    "earlystop = EarlyStopping(monitor=\"accuracy\",\n",
    "                          min_delta=0.01 , patience=3,\n",
    "                          verbose=1,\n",
    "                          mode=\"auto\")\n",
    "modelcheckpoint = ModelCheckpoint(monitor=\"accuracy\",\n",
    "                                  filepath = \"./gelu.h5\",\n",
    "                                  verbose=1,\n",
    "                                  save_best_only=True,\n",
    "                                  mode =\"auto\"\n",
    "                                  )\n",
    "lr_scheduler = ReduceLROnPlateau(factor=0.5, patience=3, min_lr=1e-3)\n",
    "\n",
    "\n",
    "class MetricsCallback(Callback):\n",
    "    def __init__(self, validation_data):\n",
    "        super().__init__()\n",
    "        self.validation_data = validation_data\n",
    "\n",
    "    def on_epoch_end(self, epoch, logs=None):\n",
    "        x_val, y_val = self.validation_data[0], self.validation_data[1]\n",
    "        predictions = self.model.predict(x_val)\n",
    "        \n",
    "        # Calculate top-5 accuracy\n",
    "        top_5 = np.argsort(predictions, axis=1)[:, -5:]\n",
    "        true_labels = np.argmax(y_val, axis=1)\n",
    "        top_5_accuracy = np.mean([1 if true_label in pred_classes else 0 for true_label, pred_classes in zip(true_labels, top_5)])\n",
    "        \n",
    "        # Calculate precision\n",
    "        precision = precision_score(true_labels, np.argmax(predictions, axis=1), average='weighted')\n",
    "        \n",
    "        print(f'Epoch {epoch + 1} - Top-5 Accuracy: {top_5_accuracy:.4f} - Precision: {precision:.4f}')\n",
    "\n",
    "\n",
    "metrics_callback = MetricsCallback(validation_data=(validate_data_1, validate_labels))\n",
    "\n",
    "callbs = [earlystop,modelcheckpoint,lr_scheduler,metrics_callback]"
   ]
  },
  {
   "cell_type": "code",
   "execution_count": null,
   "id": "69fdd759-3059-4565-912b-aa46961a283f",
   "metadata": {},
   "outputs": [
    {
     "name": "stdout",
     "output_type": "stream",
     "text": [
      "Epoch 1/30\n"
     ]
    },
    {
     "name": "stderr",
     "output_type": "stream",
     "text": [
      "2023-12-20 13:30:41.383701: I tensorflow/core/grappler/optimizers/custom_graph_optimizer_registry.cc:114] Plugin optimizer for device_type GPU is enabled.\n"
     ]
    },
    {
     "name": "stdout",
     "output_type": "stream",
     "text": [
      "1092/1093 [============================>.] - ETA: 0s - loss: 1.8200 - accuracy: 0.4340 - auc: 0.8593"
     ]
    },
    {
     "name": "stderr",
     "output_type": "stream",
     "text": [
      "2023-12-20 13:31:25.082703: I tensorflow/core/grappler/optimizers/custom_graph_optimizer_registry.cc:114] Plugin optimizer for device_type GPU is enabled.\n"
     ]
    },
    {
     "name": "stdout",
     "output_type": "stream",
     "text": [
      "\n",
      "Epoch 1: accuracy improved from -inf to 0.43391, saving model to ./gelu.h5\n"
     ]
    },
    {
     "name": "stderr",
     "output_type": "stream",
     "text": [
      "/Users/likhit/venv-metal/lib/python3.11/site-packages/keras/src/engine/training.py:3000: UserWarning: You are saving your model as an HDF5 file via `model.save()`. This file format is considered legacy. We recommend using instead the native Keras format, e.g. `model.save('my_model.keras')`.\n",
      "  saving_api.save_model(\n",
      "2023-12-20 13:31:26.207962: I tensorflow/core/grappler/optimizers/custom_graph_optimizer_registry.cc:114] Plugin optimizer for device_type GPU is enabled.\n"
     ]
    },
    {
     "name": "stdout",
     "output_type": "stream",
     "text": [
      "1/1 [==============================] - 0s 263ms/step\n",
      "Epoch 1 - Top-5 Accuracy: 0.9375 - Precision: 0.6001\n",
      "1093/1093 [==============================] - 46s 40ms/step - loss: 1.8199 - accuracy: 0.4339 - auc: 0.8592 - val_loss: 1.0982 - val_accuracy: 0.6562 - val_auc: 0.9517 - lr: 0.0010\n",
      "Epoch 2/30\n",
      "   3/1093 [..............................] - ETA: 50s - loss: 1.6086 - accuracy: 0.5729 - auc: 0.8765 "
     ]
    },
    {
     "name": "stderr",
     "output_type": "stream",
     "text": [
      "/Users/likhit/venv-metal/lib/python3.11/site-packages/sklearn/metrics/_classification.py:1469: UndefinedMetricWarning: Precision is ill-defined and being set to 0.0 in labels with no predicted samples. Use `zero_division` parameter to control this behavior.\n",
      "  _warn_prf(average, modifier, msg_start, len(result))\n"
     ]
    },
    {
     "name": "stdout",
     "output_type": "stream",
     "text": [
      "1092/1093 [============================>.] - ETA: 0s - loss: 1.3473 - accuracy: 0.5848 - auc: 0.9208\n",
      "Epoch 2: accuracy improved from 0.43391 to 0.58504, saving model to ./gelu.h5\n",
      "1/1 [==============================] - 0s 34ms/step\n",
      "Epoch 2 - Top-5 Accuracy: 1.0000 - Precision: 0.8609\n",
      "1093/1093 [==============================] - 43s 40ms/step - loss: 1.3469 - accuracy: 0.5850 - auc: 0.9208 - val_loss: 0.8255 - val_accuracy: 0.7500 - val_auc: 0.9781 - lr: 0.0010\n",
      "Epoch 3/30\n",
      "   1/1093 [..............................] - ETA: 1:02 - loss: 1.0648 - accuracy: 0.7188 - auc: 0.9474"
     ]
    },
    {
     "name": "stderr",
     "output_type": "stream",
     "text": [
      "/Users/likhit/venv-metal/lib/python3.11/site-packages/keras/src/engine/training.py:3000: UserWarning: You are saving your model as an HDF5 file via `model.save()`. This file format is considered legacy. We recommend using instead the native Keras format, e.g. `model.save('my_model.keras')`.\n",
      "  saving_api.save_model(\n"
     ]
    },
    {
     "name": "stdout",
     "output_type": "stream",
     "text": [
      "1093/1093 [==============================] - ETA: 0s - loss: 1.1446 - accuracy: 0.6591 - auc: 0.9441\n",
      "Epoch 3: accuracy improved from 0.58504 to 0.65914, saving model to ./gelu.h5\n",
      "1/1 [==============================] - 0s 28ms/step\n",
      "Epoch 3 - Top-5 Accuracy: 1.0000 - Precision: 0.9323\n",
      "1093/1093 [==============================] - 43s 40ms/step - loss: 1.1446 - accuracy: 0.6591 - auc: 0.9441 - val_loss: 0.7687 - val_accuracy: 0.8438 - val_auc: 0.9774 - lr: 0.0010\n",
      "Epoch 4/30\n",
      "   1/1093 [..............................] - ETA: 1:04 - loss: 0.8528 - accuracy: 0.7812 - auc: 0.9767"
     ]
    },
    {
     "name": "stderr",
     "output_type": "stream",
     "text": [
      "/Users/likhit/venv-metal/lib/python3.11/site-packages/keras/src/engine/training.py:3000: UserWarning: You are saving your model as an HDF5 file via `model.save()`. This file format is considered legacy. We recommend using instead the native Keras format, e.g. `model.save('my_model.keras')`.\n",
      "  saving_api.save_model(\n"
     ]
    },
    {
     "name": "stdout",
     "output_type": "stream",
     "text": [
      "1093/1093 [==============================] - ETA: 0s - loss: 1.0475 - accuracy: 0.6936 - auc: 0.9542\n",
      "Epoch 4: accuracy improved from 0.65914 to 0.69362, saving model to ./gelu.h5\n",
      "1/1 [==============================] - 0s 14ms/step\n",
      "Epoch 4 - Top-5 Accuracy: 1.0000 - Precision: 0.9357\n",
      "1093/1093 [==============================] - 44s 40ms/step - loss: 1.0475 - accuracy: 0.6936 - auc: 0.9542 - val_loss: 0.5901 - val_accuracy: 0.9062 - val_auc: 0.9901 - lr: 0.0010\n",
      "Epoch 5/30\n",
      "   1/1093 [..............................] - ETA: 1:07 - loss: 0.9094 - accuracy: 0.8125 - auc: 0.9668"
     ]
    },
    {
     "name": "stderr",
     "output_type": "stream",
     "text": [
      "/Users/likhit/venv-metal/lib/python3.11/site-packages/keras/src/engine/training.py:3000: UserWarning: You are saving your model as an HDF5 file via `model.save()`. This file format is considered legacy. We recommend using instead the native Keras format, e.g. `model.save('my_model.keras')`.\n",
      "  saving_api.save_model(\n"
     ]
    },
    {
     "name": "stdout",
     "output_type": "stream",
     "text": [
      "1092/1093 [============================>.] - ETA: 0s - loss: 0.9815 - accuracy: 0.7209 - auc: 0.9613\n",
      "Epoch 5: accuracy improved from 0.69362 to 0.72097, saving model to ./gelu.h5\n",
      "1/1 [==============================] - 0s 20ms/step\n",
      "Epoch 5 - Top-5 Accuracy: 1.0000 - Precision: 0.9104\n",
      "1093/1093 [==============================] - 43s 40ms/step - loss: 0.9813 - accuracy: 0.7210 - auc: 0.9613 - val_loss: 0.5809 - val_accuracy: 0.8750 - val_auc: 0.9931 - lr: 0.0010\n",
      "Epoch 6/30\n",
      "   1/1093 [..............................] - ETA: 1:06 - loss: 0.8827 - accuracy: 0.7500 - auc: 0.9741"
     ]
    },
    {
     "name": "stderr",
     "output_type": "stream",
     "text": [
      "/Users/likhit/venv-metal/lib/python3.11/site-packages/keras/src/engine/training.py:3000: UserWarning: You are saving your model as an HDF5 file via `model.save()`. This file format is considered legacy. We recommend using instead the native Keras format, e.g. `model.save('my_model.keras')`.\n",
      "  saving_api.save_model(\n"
     ]
    },
    {
     "name": "stdout",
     "output_type": "stream",
     "text": [
      "1092/1093 [============================>.] - ETA: 0s - loss: 0.9424 - accuracy: 0.7382 - auc: 0.9657\n",
      "Epoch 6: accuracy improved from 0.72097 to 0.73817, saving model to ./gelu.h5\n",
      "1/1 [==============================] - 0s 14ms/step\n",
      "Epoch 6 - Top-5 Accuracy: 1.0000 - Precision: 0.9297\n",
      "1093/1093 [==============================] - 43s 40ms/step - loss: 0.9427 - accuracy: 0.7382 - auc: 0.9657 - val_loss: 0.5544 - val_accuracy: 0.9062 - val_auc: 0.9950 - lr: 0.0010\n",
      "Epoch 7/30\n",
      "   1/1093 [..............................] - ETA: 1:02 - loss: 0.7380 - accuracy: 0.7812 - auc: 0.9858"
     ]
    },
    {
     "name": "stderr",
     "output_type": "stream",
     "text": [
      "/Users/likhit/venv-metal/lib/python3.11/site-packages/keras/src/engine/training.py:3000: UserWarning: You are saving your model as an HDF5 file via `model.save()`. This file format is considered legacy. We recommend using instead the native Keras format, e.g. `model.save('my_model.keras')`.\n",
      "  saving_api.save_model(\n"
     ]
    },
    {
     "name": "stdout",
     "output_type": "stream",
     "text": [
      "1092/1093 [============================>.] - ETA: 0s - loss: 0.8975 - accuracy: 0.7554 - auc: 0.9692\n",
      "Epoch 7: accuracy improved from 0.73817 to 0.75531, saving model to ./gelu.h5\n",
      "1/1 [==============================] - 0s 14ms/step\n",
      "Epoch 7 - Top-5 Accuracy: 1.0000 - Precision: 0.8724\n",
      "1093/1093 [==============================] - 43s 39ms/step - loss: 0.8980 - accuracy: 0.7553 - auc: 0.9691 - val_loss: 0.6316 - val_accuracy: 0.8438 - val_auc: 0.9911 - lr: 0.0010\n",
      "Epoch 8/30\n",
      "   1/1093 [..............................] - ETA: 1:02 - loss: 1.0284 - accuracy: 0.6250 - auc: 0.9616"
     ]
    },
    {
     "name": "stderr",
     "output_type": "stream",
     "text": [
      "/Users/likhit/venv-metal/lib/python3.11/site-packages/keras/src/engine/training.py:3000: UserWarning: You are saving your model as an HDF5 file via `model.save()`. This file format is considered legacy. We recommend using instead the native Keras format, e.g. `model.save('my_model.keras')`.\n",
      "  saving_api.save_model(\n"
     ]
    },
    {
     "name": "stdout",
     "output_type": "stream",
     "text": [
      "1092/1093 [============================>.] - ETA: 0s - loss: 0.8607 - accuracy: 0.7650 - auc: 0.9718\n",
      "Epoch 8: accuracy improved from 0.75531 to 0.76498, saving model to ./gelu.h5\n",
      "1/1 [==============================] - 0s 28ms/step\n",
      "Epoch 8 - Top-5 Accuracy: 1.0000 - Precision: 0.9089\n",
      "1093/1093 [==============================] - 44s 40ms/step - loss: 0.8607 - accuracy: 0.7650 - auc: 0.9718 - val_loss: 0.6454 - val_accuracy: 0.8438 - val_auc: 0.9848 - lr: 0.0010\n",
      "Epoch 9/30\n",
      "   1/1093 [..............................] - ETA: 1:04 - loss: 0.7849 - accuracy: 0.8125 - auc: 0.9795"
     ]
    },
    {
     "name": "stderr",
     "output_type": "stream",
     "text": [
      "/Users/likhit/venv-metal/lib/python3.11/site-packages/keras/src/engine/training.py:3000: UserWarning: You are saving your model as an HDF5 file via `model.save()`. This file format is considered legacy. We recommend using instead the native Keras format, e.g. `model.save('my_model.keras')`.\n",
      "  saving_api.save_model(\n"
     ]
    },
    {
     "name": "stdout",
     "output_type": "stream",
     "text": [
      "1093/1093 [==============================] - ETA: 0s - loss: 0.8277 - accuracy: 0.7759 - auc: 0.9740\n",
      "Epoch 9: accuracy improved from 0.76498 to 0.77588, saving model to ./gelu.h5\n",
      "1/1 [==============================] - 0s 31ms/step\n",
      "Epoch 9 - Top-5 Accuracy: 1.0000 - Precision: 0.9271\n",
      "1093/1093 [==============================] - 43s 39ms/step - loss: 0.8277 - accuracy: 0.7759 - auc: 0.9740 - val_loss: 0.6048 - val_accuracy: 0.8438 - val_auc: 0.9905 - lr: 0.0010\n",
      "Epoch 10/30\n",
      "   1/1093 [..............................] - ETA: 1:03 - loss: 0.9490 - accuracy: 0.6875 - auc: 0.9675"
     ]
    },
    {
     "name": "stderr",
     "output_type": "stream",
     "text": [
      "/Users/likhit/venv-metal/lib/python3.11/site-packages/keras/src/engine/training.py:3000: UserWarning: You are saving your model as an HDF5 file via `model.save()`. This file format is considered legacy. We recommend using instead the native Keras format, e.g. `model.save('my_model.keras')`.\n",
      "  saving_api.save_model(\n"
     ]
    },
    {
     "name": "stdout",
     "output_type": "stream",
     "text": [
      "1093/1093 [==============================] - ETA: 0s - loss: 0.8033 - accuracy: 0.7867 - auc: 0.9758\n",
      "Epoch 10: accuracy improved from 0.77588 to 0.78667, saving model to ./gelu.h5\n",
      "1/1 [==============================] - 0s 14ms/step\n",
      "Epoch 10 - Top-5 Accuracy: 1.0000 - Precision: 0.8404\n",
      "1093/1093 [==============================] - 43s 39ms/step - loss: 0.8033 - accuracy: 0.7867 - auc: 0.9758 - val_loss: 0.5709 - val_accuracy: 0.8125 - val_auc: 0.9924 - lr: 0.0010\n",
      "Epoch 11/30\n",
      "   1/1093 [..............................] - ETA: 1:04 - loss: 0.5895 - accuracy: 0.8438 - auc: 0.9910"
     ]
    },
    {
     "name": "stderr",
     "output_type": "stream",
     "text": [
      "/Users/likhit/venv-metal/lib/python3.11/site-packages/keras/src/engine/training.py:3000: UserWarning: You are saving your model as an HDF5 file via `model.save()`. This file format is considered legacy. We recommend using instead the native Keras format, e.g. `model.save('my_model.keras')`.\n",
      "  saving_api.save_model(\n"
     ]
    },
    {
     "name": "stdout",
     "output_type": "stream",
     "text": [
      "1092/1093 [============================>.] - ETA: 0s - loss: 0.7777 - accuracy: 0.7958 - auc: 0.9775\n",
      "Epoch 11: accuracy improved from 0.78667 to 0.79571, saving model to ./gelu.h5\n",
      "1/1 [==============================] - 0s 15ms/step\n",
      "Epoch 11 - Top-5 Accuracy: 1.0000 - Precision: 0.9062\n",
      "1093/1093 [==============================] - 43s 40ms/step - loss: 0.7779 - accuracy: 0.7957 - auc: 0.9775 - val_loss: 0.4548 - val_accuracy: 0.8750 - val_auc: 0.9954 - lr: 0.0010\n",
      "Epoch 12/30\n",
      "   1/1093 [..............................] - ETA: 1:00 - loss: 0.5861 - accuracy: 0.9062 - auc: 0.9889"
     ]
    },
    {
     "name": "stderr",
     "output_type": "stream",
     "text": [
      "/Users/likhit/venv-metal/lib/python3.11/site-packages/keras/src/engine/training.py:3000: UserWarning: You are saving your model as an HDF5 file via `model.save()`. This file format is considered legacy. We recommend using instead the native Keras format, e.g. `model.save('my_model.keras')`.\n",
      "  saving_api.save_model(\n"
     ]
    },
    {
     "name": "stdout",
     "output_type": "stream",
     "text": [
      "1093/1093 [==============================] - ETA: 0s - loss: 0.7659 - accuracy: 0.8001 - auc: 0.9786\n",
      "Epoch 12: accuracy improved from 0.79571 to 0.80009, saving model to ./gelu.h5\n",
      "1/1 [==============================] - 0s 33ms/step\n",
      "Epoch 12 - Top-5 Accuracy: 1.0000 - Precision: 0.8854\n",
      "1093/1093 [==============================] - 43s 40ms/step - loss: 0.7659 - accuracy: 0.8001 - auc: 0.9786 - val_loss: 0.6031 - val_accuracy: 0.8438 - val_auc: 0.9905 - lr: 0.0010\n",
      "Epoch 13/30\n",
      "   1/1093 [..............................] - ETA: 1:05 - loss: 0.8361 - accuracy: 0.7500 - auc: 0.9777"
     ]
    },
    {
     "name": "stderr",
     "output_type": "stream",
     "text": [
      "/Users/likhit/venv-metal/lib/python3.11/site-packages/keras/src/engine/training.py:3000: UserWarning: You are saving your model as an HDF5 file via `model.save()`. This file format is considered legacy. We recommend using instead the native Keras format, e.g. `model.save('my_model.keras')`.\n",
      "  saving_api.save_model(\n"
     ]
    },
    {
     "name": "stdout",
     "output_type": "stream",
     "text": [
      "1093/1093 [==============================] - ETA: 0s - loss: 0.7488 - accuracy: 0.8090 - auc: 0.9800\n",
      "Epoch 13: accuracy improved from 0.80009 to 0.80904, saving model to ./gelu.h5\n",
      "1/1 [==============================] - 0s 31ms/step\n",
      "Epoch 13 - Top-5 Accuracy: 1.0000 - Precision: 0.9740\n",
      "1093/1093 [==============================] - 43s 39ms/step - loss: 0.7488 - accuracy: 0.8090 - auc: 0.9800 - val_loss: 0.3538 - val_accuracy: 0.9688 - val_auc: 0.9992 - lr: 0.0010\n",
      "Epoch 14/30\n",
      "   1/1093 [..............................] - ETA: 1:15 - loss: 0.5443 - accuracy: 0.8750 - auc: 0.9938"
     ]
    },
    {
     "name": "stderr",
     "output_type": "stream",
     "text": [
      "/Users/likhit/venv-metal/lib/python3.11/site-packages/keras/src/engine/training.py:3000: UserWarning: You are saving your model as an HDF5 file via `model.save()`. This file format is considered legacy. We recommend using instead the native Keras format, e.g. `model.save('my_model.keras')`.\n",
      "  saving_api.save_model(\n"
     ]
    },
    {
     "name": "stdout",
     "output_type": "stream",
     "text": [
      "1092/1093 [============================>.] - ETA: 0s - loss: 0.7282 - accuracy: 0.8128 - auc: 0.9809\n",
      "Epoch 14: accuracy improved from 0.80904 to 0.81282, saving model to ./gelu.h5\n",
      "1/1 [==============================] - 0s 14ms/step\n",
      "Epoch 14 - Top-5 Accuracy: 1.0000 - Precision: 0.9531\n",
      "1093/1093 [==============================] - 43s 39ms/step - loss: 0.7282 - accuracy: 0.8128 - auc: 0.9809 - val_loss: 0.3369 - val_accuracy: 0.9375 - val_auc: 0.9992 - lr: 0.0010\n",
      "Epoch 15/30\n",
      "   1/1093 [..............................] - ETA: 1:05 - loss: 0.9935 - accuracy: 0.7812 - auc: 0.9650"
     ]
    },
    {
     "name": "stderr",
     "output_type": "stream",
     "text": [
      "/Users/likhit/venv-metal/lib/python3.11/site-packages/keras/src/engine/training.py:3000: UserWarning: You are saving your model as an HDF5 file via `model.save()`. This file format is considered legacy. We recommend using instead the native Keras format, e.g. `model.save('my_model.keras')`.\n",
      "  saving_api.save_model(\n"
     ]
    },
    {
     "name": "stdout",
     "output_type": "stream",
     "text": [
      "1093/1093 [==============================] - ETA: 0s - loss: 0.7170 - accuracy: 0.8174 - auc: 0.9821\n",
      "Epoch 15: accuracy improved from 0.81282 to 0.81740, saving model to ./gelu.h5\n",
      "1/1 [==============================] - 0s 30ms/step\n",
      "Epoch 15 - Top-5 Accuracy: 1.0000 - Precision: 0.9844\n",
      "1093/1093 [==============================] - 43s 39ms/step - loss: 0.7170 - accuracy: 0.8174 - auc: 0.9821 - val_loss: 0.4053 - val_accuracy: 0.9688 - val_auc: 0.9984 - lr: 0.0010\n",
      "Epoch 16/30\n",
      "   1/1093 [..............................] - ETA: 1:02 - loss: 0.8083 - accuracy: 0.7812 - auc: 0.9787"
     ]
    },
    {
     "name": "stderr",
     "output_type": "stream",
     "text": [
      "/Users/likhit/venv-metal/lib/python3.11/site-packages/keras/src/engine/training.py:3000: UserWarning: You are saving your model as an HDF5 file via `model.save()`. This file format is considered legacy. We recommend using instead the native Keras format, e.g. `model.save('my_model.keras')`.\n",
      "  saving_api.save_model(\n"
     ]
    },
    {
     "name": "stdout",
     "output_type": "stream",
     "text": [
      "1093/1093 [==============================] - ETA: 0s - loss: 0.7014 - accuracy: 0.8246 - auc: 0.9827\n",
      "Epoch 16: accuracy improved from 0.81740 to 0.82461, saving model to ./gelu.h5\n",
      "1/1 [==============================] - 0s 31ms/step\n",
      "Epoch 16 - Top-5 Accuracy: 1.0000 - Precision: 0.9085\n",
      "1093/1093 [==============================] - 43s 39ms/step - loss: 0.7014 - accuracy: 0.8246 - auc: 0.9827 - val_loss: 0.6089 - val_accuracy: 0.8438 - val_auc: 0.9906 - lr: 0.0010\n",
      "Epoch 17/30\n",
      "   1/1093 [..............................] - ETA: 1:00 - loss: 0.4298 - accuracy: 0.9688 - auc: 0.9966"
     ]
    },
    {
     "name": "stderr",
     "output_type": "stream",
     "text": [
      "/Users/likhit/venv-metal/lib/python3.11/site-packages/keras/src/engine/training.py:3000: UserWarning: You are saving your model as an HDF5 file via `model.save()`. This file format is considered legacy. We recommend using instead the native Keras format, e.g. `model.save('my_model.keras')`.\n",
      "  saving_api.save_model(\n"
     ]
    },
    {
     "name": "stdout",
     "output_type": "stream",
     "text": [
      "1093/1093 [==============================] - ETA: 0s - loss: 0.6897 - accuracy: 0.8304 - auc: 0.9837\n",
      "Epoch 17: accuracy improved from 0.82461 to 0.83041, saving model to ./gelu.h5\n",
      "1/1 [==============================] - 0s 14ms/step\n",
      "Epoch 17 - Top-5 Accuracy: 1.0000 - Precision: 0.8698\n",
      "1093/1093 [==============================] - 44s 40ms/step - loss: 0.6897 - accuracy: 0.8304 - auc: 0.9837 - val_loss: 0.4541 - val_accuracy: 0.8438 - val_auc: 0.9960 - lr: 0.0010\n",
      "Epoch 18/30\n",
      "   1/1093 [..............................] - ETA: 1:03 - loss: 0.6797 - accuracy: 0.8125 - auc: 0.9743"
     ]
    },
    {
     "name": "stderr",
     "output_type": "stream",
     "text": [
      "/Users/likhit/venv-metal/lib/python3.11/site-packages/keras/src/engine/training.py:3000: UserWarning: You are saving your model as an HDF5 file via `model.save()`. This file format is considered legacy. We recommend using instead the native Keras format, e.g. `model.save('my_model.keras')`.\n",
      "  saving_api.save_model(\n"
     ]
    },
    {
     "name": "stdout",
     "output_type": "stream",
     "text": [
      "1092/1093 [============================>.] - ETA: 0s - loss: 0.6698 - accuracy: 0.8346 - auc: 0.9842\n",
      "Epoch 18: accuracy improved from 0.83041 to 0.83454, saving model to ./gelu.h5\n",
      "1/1 [==============================] - 0s 14ms/step\n",
      "Epoch 18 - Top-5 Accuracy: 1.0000 - Precision: 0.9844\n",
      "1093/1093 [==============================] - 44s 40ms/step - loss: 0.6698 - accuracy: 0.8345 - auc: 0.9842 - val_loss: 0.3600 - val_accuracy: 0.9688 - val_auc: 0.9986 - lr: 0.0010\n",
      "Epoch 19/30\n",
      "   1/1093 [..............................] - ETA: 1:02 - loss: 0.7739 - accuracy: 0.8125 - auc: 0.9793"
     ]
    },
    {
     "name": "stderr",
     "output_type": "stream",
     "text": [
      "/Users/likhit/venv-metal/lib/python3.11/site-packages/keras/src/engine/training.py:3000: UserWarning: You are saving your model as an HDF5 file via `model.save()`. This file format is considered legacy. We recommend using instead the native Keras format, e.g. `model.save('my_model.keras')`.\n",
      "  saving_api.save_model(\n"
     ]
    },
    {
     "name": "stdout",
     "output_type": "stream",
     "text": [
      "1092/1093 [============================>.] - ETA: 0s - loss: 0.6603 - accuracy: 0.8385 - auc: 0.9845\n",
      "Epoch 19: accuracy improved from 0.83454 to 0.83848, saving model to ./gelu.h5\n",
      "1/1 [==============================] - 0s 16ms/step\n",
      "Epoch 19 - Top-5 Accuracy: 1.0000 - Precision: 0.8839\n",
      "1093/1093 [==============================] - 44s 40ms/step - loss: 0.6604 - accuracy: 0.8385 - auc: 0.9845 - val_loss: 0.4575 - val_accuracy: 0.8750 - val_auc: 0.9959 - lr: 0.0010\n",
      "Epoch 20/30\n",
      "   1/1093 [..............................] - ETA: 1:01 - loss: 0.8842 - accuracy: 0.7812 - auc: 0.9632"
     ]
    },
    {
     "name": "stderr",
     "output_type": "stream",
     "text": [
      "/Users/likhit/venv-metal/lib/python3.11/site-packages/keras/src/engine/training.py:3000: UserWarning: You are saving your model as an HDF5 file via `model.save()`. This file format is considered legacy. We recommend using instead the native Keras format, e.g. `model.save('my_model.keras')`.\n",
      "  saving_api.save_model(\n"
     ]
    },
    {
     "name": "stdout",
     "output_type": "stream",
     "text": [
      "1093/1093 [==============================] - ETA: 0s - loss: 0.6539 - accuracy: 0.8414 - auc: 0.9852\n",
      "Epoch 20: accuracy improved from 0.83848 to 0.84140, saving model to ./gelu.h5\n",
      "1/1 [==============================] - 0s 15ms/step\n",
      "Epoch 20 - Top-5 Accuracy: 1.0000 - Precision: 0.9141\n",
      "1093/1093 [==============================] - 44s 40ms/step - loss: 0.6539 - accuracy: 0.8414 - auc: 0.9852 - val_loss: 0.3909 - val_accuracy: 0.9062 - val_auc: 0.9979 - lr: 0.0010\n",
      "Epoch 21/30\n",
      "   1/1093 [..............................] - ETA: 1:03 - loss: 0.3900 - accuracy: 0.9062 - auc: 0.9985"
     ]
    },
    {
     "name": "stderr",
     "output_type": "stream",
     "text": [
      "/Users/likhit/venv-metal/lib/python3.11/site-packages/keras/src/engine/training.py:3000: UserWarning: You are saving your model as an HDF5 file via `model.save()`. This file format is considered legacy. We recommend using instead the native Keras format, e.g. `model.save('my_model.keras')`.\n",
      "  saving_api.save_model(\n"
     ]
    },
    {
     "name": "stdout",
     "output_type": "stream",
     "text": [
      "1093/1093 [==============================] - ETA: 0s - loss: 0.6369 - accuracy: 0.8456 - auc: 0.9863\n",
      "Epoch 21: accuracy improved from 0.84140 to 0.84555, saving model to ./gelu.h5\n",
      "1/1 [==============================] - 0s 15ms/step\n",
      "Epoch 21 - Top-5 Accuracy: 1.0000 - Precision: 0.9557\n",
      "1093/1093 [==============================] - 44s 40ms/step - loss: 0.6369 - accuracy: 0.8456 - auc: 0.9863 - val_loss: 0.3265 - val_accuracy: 0.9375 - val_auc: 0.9992 - lr: 0.0010\n",
      "Epoch 22/30\n",
      "   1/1093 [..............................] - ETA: 1:03 - loss: 0.6424 - accuracy: 0.8750 - auc: 0.9877"
     ]
    },
    {
     "name": "stderr",
     "output_type": "stream",
     "text": [
      "/Users/likhit/venv-metal/lib/python3.11/site-packages/keras/src/engine/training.py:3000: UserWarning: You are saving your model as an HDF5 file via `model.save()`. This file format is considered legacy. We recommend using instead the native Keras format, e.g. `model.save('my_model.keras')`.\n",
      "  saving_api.save_model(\n"
     ]
    },
    {
     "name": "stdout",
     "output_type": "stream",
     "text": [
      "1092/1093 [============================>.] - ETA: 0s - loss: 0.6231 - accuracy: 0.8492 - auc: 0.9870\n",
      "Epoch 22: accuracy improved from 0.84555 to 0.84927, saving model to ./gelu.h5\n",
      "1/1 [==============================] - 0s 13ms/step\n",
      "Epoch 22 - Top-5 Accuracy: 1.0000 - Precision: 0.9189\n",
      "1093/1093 [==============================] - 44s 40ms/step - loss: 0.6231 - accuracy: 0.8493 - auc: 0.9870 - val_loss: 0.5120 - val_accuracy: 0.8750 - val_auc: 0.9947 - lr: 0.0010\n",
      "Epoch 23/30\n",
      "   1/1093 [..............................] - ETA: 1:04 - loss: 0.7639 - accuracy: 0.8438 - auc: 0.9694"
     ]
    },
    {
     "name": "stderr",
     "output_type": "stream",
     "text": [
      "/Users/likhit/venv-metal/lib/python3.11/site-packages/keras/src/engine/training.py:3000: UserWarning: You are saving your model as an HDF5 file via `model.save()`. This file format is considered legacy. We recommend using instead the native Keras format, e.g. `model.save('my_model.keras')`.\n",
      "  saving_api.save_model(\n"
     ]
    },
    {
     "name": "stdout",
     "output_type": "stream",
     "text": [
      "1092/1093 [============================>.] - ETA: 0s - loss: 0.6171 - accuracy: 0.8527 - auc: 0.9866\n",
      "Epoch 23: accuracy improved from 0.84927 to 0.85265, saving model to ./gelu.h5\n",
      "1/1 [==============================] - 0s 15ms/step\n",
      "Epoch 23 - Top-5 Accuracy: 0.9688 - Precision: 0.9844\n",
      "1093/1093 [==============================] - 44s 40ms/step - loss: 0.6172 - accuracy: 0.8526 - auc: 0.9866 - val_loss: 0.4224 - val_accuracy: 0.9688 - val_auc: 0.9964 - lr: 0.0010\n",
      "Epoch 24/30\n",
      "   1/1093 [..............................] - ETA: 1:04 - loss: 0.4527 - accuracy: 0.8750 - auc: 0.9961"
     ]
    },
    {
     "name": "stderr",
     "output_type": "stream",
     "text": [
      "/Users/likhit/venv-metal/lib/python3.11/site-packages/keras/src/engine/training.py:3000: UserWarning: You are saving your model as an HDF5 file via `model.save()`. This file format is considered legacy. We recommend using instead the native Keras format, e.g. `model.save('my_model.keras')`.\n",
      "  saving_api.save_model(\n"
     ]
    },
    {
     "name": "stdout",
     "output_type": "stream",
     "text": [
      "1092/1093 [============================>.] - ETA: 0s - loss: 0.6003 - accuracy: 0.8552 - auc: 0.9877\n",
      "Epoch 24: accuracy improved from 0.85265 to 0.85531, saving model to ./gelu.h5\n",
      "1/1 [==============================] - 0s 16ms/step\n",
      "Epoch 24 - Top-5 Accuracy: 1.0000 - Precision: 0.9792\n",
      "1093/1093 [==============================] - 45s 41ms/step - loss: 0.6001 - accuracy: 0.8553 - auc: 0.9877 - val_loss: 0.3469 - val_accuracy: 0.9688 - val_auc: 0.9980 - lr: 0.0010\n",
      "Epoch 25/30\n",
      "   1/1093 [..............................] - ETA: 1:08 - loss: 0.6382 - accuracy: 0.8125 - auc: 0.9867"
     ]
    },
    {
     "name": "stderr",
     "output_type": "stream",
     "text": [
      "/Users/likhit/venv-metal/lib/python3.11/site-packages/keras/src/engine/training.py:3000: UserWarning: You are saving your model as an HDF5 file via `model.save()`. This file format is considered legacy. We recommend using instead the native Keras format, e.g. `model.save('my_model.keras')`.\n",
      "  saving_api.save_model(\n"
     ]
    },
    {
     "name": "stdout",
     "output_type": "stream",
     "text": [
      "1092/1093 [============================>.] - ETA: 0s - loss: 0.5910 - accuracy: 0.8603 - auc: 0.9882\n",
      "Epoch 25: accuracy improved from 0.85531 to 0.86026, saving model to ./gelu.h5\n",
      "1/1 [==============================] - 0s 16ms/step\n",
      "Epoch 25 - Top-5 Accuracy: 1.0000 - Precision: 0.9531\n",
      "1093/1093 [==============================] - 45s 42ms/step - loss: 0.5910 - accuracy: 0.8603 - auc: 0.9882 - val_loss: 0.3733 - val_accuracy: 0.9375 - val_auc: 0.9983 - lr: 0.0010\n",
      "Epoch 26/30\n",
      "   1/1093 [..............................] - ETA: 1:04 - loss: 0.5850 - accuracy: 0.9062 - auc: 0.9798"
     ]
    },
    {
     "name": "stderr",
     "output_type": "stream",
     "text": [
      "/Users/likhit/venv-metal/lib/python3.11/site-packages/keras/src/engine/training.py:3000: UserWarning: You are saving your model as an HDF5 file via `model.save()`. This file format is considered legacy. We recommend using instead the native Keras format, e.g. `model.save('my_model.keras')`.\n",
      "  saving_api.save_model(\n"
     ]
    },
    {
     "name": "stdout",
     "output_type": "stream",
     "text": [
      "1093/1093 [==============================] - ETA: 0s - loss: 0.5798 - accuracy: 0.8638 - auc: 0.9889\n",
      "Epoch 26: accuracy improved from 0.86026 to 0.86383, saving model to ./gelu.h5\n",
      "1/1 [==============================] - 0s 14ms/step\n",
      "Epoch 26 - Top-5 Accuracy: 1.0000 - Precision: 0.9740\n",
      "1093/1093 [==============================] - 44s 40ms/step - loss: 0.5798 - accuracy: 0.8638 - auc: 0.9889 - val_loss: 0.3225 - val_accuracy: 0.9688 - val_auc: 0.9992 - lr: 0.0010\n",
      "Epoch 27/30\n",
      "   1/1093 [..............................] - ETA: 1:02 - loss: 0.5016 - accuracy: 0.9062 - auc: 0.9945"
     ]
    },
    {
     "name": "stderr",
     "output_type": "stream",
     "text": [
      "/Users/likhit/venv-metal/lib/python3.11/site-packages/keras/src/engine/training.py:3000: UserWarning: You are saving your model as an HDF5 file via `model.save()`. This file format is considered legacy. We recommend using instead the native Keras format, e.g. `model.save('my_model.keras')`.\n",
      "  saving_api.save_model(\n"
     ]
    },
    {
     "name": "stdout",
     "output_type": "stream",
     "text": [
      " 985/1093 [==========================>...] - ETA: 4s - loss: 0.5748 - accuracy: 0.8666 - auc: 0.9892"
     ]
    }
   ],
   "source": [
    "final = original_model.fit(\n",
    "    image,\n",
    "    steps_per_epoch=len(image),\n",
    "    epochs=30,\n",
    "    validation_data=(validate_data_1, validate_labels),\n",
    "    validation_steps=len(validate_data_1),\n",
    "    verbose=1,\n",
    "    callbacks=callbs)\n",
    "    "
   ]
  },
  {
   "cell_type": "code",
   "execution_count": null,
   "id": "5267c3af-9966-4a29-8117-8e65505ffa65",
   "metadata": {},
   "outputs": [],
   "source": [
    "image.class_indices"
   ]
  },
  {
   "cell_type": "code",
   "execution_count": null,
   "id": "6b35d69a-77d7-4c8c-af93-8f3766c98097",
   "metadata": {},
   "outputs": [],
   "source": [
    "import numpy as np\n",
    "from sklearn.metrics import precision_score\n",
    "\n",
    "def calculate_metrics(true_labels, predictions):\n",
    "    # Calculate top-5 accuracy\n",
    "    top_5 = np.argsort(predictions, axis=1)[:, -5:]\n",
    "    top_5_accuracy = np.mean([1 if true_label in pred_classes else 0 for true_label, pred_classes in zip(true_labels, top_5)])\n",
    "\n",
    "    # Calculate precision\n",
    "    precision = precision_score(true_labels, np.argmax(predictions, axis=1), average='weighted')\n",
    "\n",
    "    return top_5_accuracy, precision\n",
    "    "
   ]
  },
  {
   "cell_type": "code",
   "execution_count": null,
   "id": "82c36fcf-e48f-46da-9b7f-4347dbbb947f",
   "metadata": {},
   "outputs": [],
   "source": [
    "prediction = original_model.evaluate(X_test , Y_test,verbose=1)\n",
    "print('Test loss:', prediction[0])\n",
    "print('Test accuracy:', prediction[1])\n",
    "\n",
    "predictions = original_model.predict(X_test)\n",
    "top_5_accuracy, precision = calculate_metrics(np.argmax(Y_test, axis=1), predictions)\n",
    "\n",
    "# Print metrics\n",
    "print(f' Top-5 Accuracy: {top_5_accuracy:.4f}')\n",
    "print(f'Precision: {precision:.4f}')"
   ]
  },
  {
   "cell_type": "code",
   "execution_count": null,
   "id": "c4aef46e-dae6-47cf-93e5-33ad3ce2885e",
   "metadata": {},
   "outputs": [],
   "source": [
    "h = final.history\n",
    "h.keys()\n",
    "\n",
    "\n",
    "\n",
    "plt.plot(h['loss'])\n",
    "plt.plot(h['accuracy'])\n",
    "\n",
    "plt.title(\"Loss vs Acc\")\n",
    "plt.show()"
   ]
  },
  {
   "cell_type": "code",
   "execution_count": null,
   "id": "71c1a66e-c6eb-4fdf-87a7-8b445ed6ead2",
   "metadata": {},
   "outputs": [],
   "source": []
  }
 ],
 "metadata": {
  "kernelspec": {
   "display_name": "Python 3 (ipykernel)",
   "language": "python",
   "name": "python3"
  },
  "language_info": {
   "codemirror_mode": {
    "name": "ipython",
    "version": 3
   },
   "file_extension": ".py",
   "mimetype": "text/x-python",
   "name": "python",
   "nbconvert_exporter": "python",
   "pygments_lexer": "ipython3",
   "version": "3.11.4"
  }
 },
 "nbformat": 4,
 "nbformat_minor": 5
}
